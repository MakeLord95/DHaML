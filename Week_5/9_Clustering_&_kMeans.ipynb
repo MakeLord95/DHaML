{
 "cells": [
  {
   "metadata": {},
   "cell_type": "markdown",
   "source": "# 9 - Clustering & kMeans",
   "id": "8160071a6c9aea8e"
  },
  {
   "metadata": {},
   "cell_type": "markdown",
   "source": [
    "1. Initialize k cluster centroids.\n",
    "2. Assign each observation to the cluster represented by the nearest cluster centroid.\n",
    "3. Update the positions of the cluster centroids.\n",
    "4. Repeat steps 2 and 3 until the cluster centroids no longer change.\n",
    "5. The clustering is complete."
   ],
   "id": "2344c39a76f2c35"
  },
  {
   "metadata": {},
   "cell_type": "code",
   "outputs": [],
   "execution_count": null,
   "source": "",
   "id": "d3325022bbba3768"
  }
 ],
 "metadata": {
  "kernelspec": {
   "display_name": "Python 3",
   "language": "python",
   "name": "python3"
  },
  "language_info": {
   "codemirror_mode": {
    "name": "ipython",
    "version": 2
   },
   "file_extension": ".py",
   "mimetype": "text/x-python",
   "name": "python",
   "nbconvert_exporter": "python",
   "pygments_lexer": "ipython2",
   "version": "2.7.6"
  }
 },
 "nbformat": 4,
 "nbformat_minor": 5
}
